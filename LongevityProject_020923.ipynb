{
 "cells": [
  {
   "attachments": {
    "download.jpg": {
     "image/jpeg": "[encoded data removed]"
    }
   },
   "cell_type": "markdown",
   "id": "d08615a1",
   "metadata": {},
   "source": [
    "# Insight on the Genetics of Longevity\n",
    "## What genes are associated with longer life?\n",
    "### Kamy Wakim - 2/9/23\n",
    "![download.jpg](attachment:download.jpg)"
   ]
  },
  {
   "cell_type": "markdown",
   "id": "8351fb51",
   "metadata": {},
   "source": [
    "### Step 1: Initalize libraries for data analysis and visualization"
   ]
  },
  {
   "cell_type": "code",
   "execution_count": 62,
   "id": "696da60f",
   "metadata": {},
   "outputs": [],
   "source": [
    "import pandas as pd\n",
    "import numpy as np\n",
    "import seaborn as sns\n",
    "import matplotlib.pyplot as plt"
   ]
  },
  {
   "cell_type": "markdown",
   "id": "14b989c2",
   "metadata": {},
   "source": [
    "### Step 2: Load the data"
   ]
  },
  {
   "cell_type": "code",
   "execution_count": 58,
   "id": "5e86b41f",
   "metadata": {},
   "outputs": [
    {
     "data": {
      "text/html": [
       "<div>\n",
       "<style scoped>\n",
       "    .dataframe tbody tr th:only-of-type {\n",
       "        vertical-align: middle;\n",
       "    }\n",
       "\n",
       "    .dataframe tbody tr th {\n",
       "        vertical-align: top;\n",
       "    }\n",
       "\n",
       "    .dataframe thead th {\n",
       "        text-align: right;\n",
       "    }\n",
       "</style>\n",
       "<table border=\"1\" class=\"dataframe\">\n",
       "  <thead>\n",
       "    <tr style=\"text-align: right;\">\n",
       "      <th></th>\n",
       "      <th>Association</th>\n",
       "      <th>Population</th>\n",
       "      <th>Variant(s)</th>\n",
       "      <th>Gene(s)</th>\n",
       "      <th>PubMed</th>\n",
       "      <th>Unnamed: 6</th>\n",
       "    </tr>\n",
       "    <tr>\n",
       "      <th>id</th>\n",
       "      <th></th>\n",
       "      <th></th>\n",
       "      <th></th>\n",
       "      <th></th>\n",
       "      <th></th>\n",
       "      <th></th>\n",
       "    </tr>\n",
       "  </thead>\n",
       "  <tbody>\n",
       "    <tr>\n",
       "      <th>1</th>\n",
       "      <td>non-significant</td>\n",
       "      <td>Dutch</td>\n",
       "      <td>HLA-B40</td>\n",
       "      <td>HLA-B</td>\n",
       "      <td>1859103</td>\n",
       "      <td>NaN</td>\n",
       "    </tr>\n",
       "    <tr>\n",
       "      <th>2</th>\n",
       "      <td>non-significant</td>\n",
       "      <td>Dutch</td>\n",
       "      <td>HLA-DRB5</td>\n",
       "      <td>HLA-DRB5</td>\n",
       "      <td>1859103</td>\n",
       "      <td>NaN</td>\n",
       "    </tr>\n",
       "    <tr>\n",
       "      <th>3</th>\n",
       "      <td>non-significant</td>\n",
       "      <td>Finnish</td>\n",
       "      <td>APOB</td>\n",
       "      <td>APOB</td>\n",
       "      <td>8018664</td>\n",
       "      <td>NaN</td>\n",
       "    </tr>\n",
       "    <tr>\n",
       "      <th>4</th>\n",
       "      <td>significant</td>\n",
       "      <td>Finnish</td>\n",
       "      <td>APOC3</td>\n",
       "      <td>APOC3</td>\n",
       "      <td>8018664</td>\n",
       "      <td>NaN</td>\n",
       "    </tr>\n",
       "    <tr>\n",
       "      <th>5</th>\n",
       "      <td>significant</td>\n",
       "      <td>Finnish</td>\n",
       "      <td>E2/E3/E4</td>\n",
       "      <td>APOE</td>\n",
       "      <td>8018664</td>\n",
       "      <td>NaN</td>\n",
       "    </tr>\n",
       "  </tbody>\n",
       "</table>\n",
       "</div>"
      ],
      "text/plain": [
       "        Association Population Variant(s)   Gene(s)   PubMed  Unnamed: 6\n",
       "id                                                                      \n",
       "1   non-significant      Dutch    HLA-B40     HLA-B  1859103         NaN\n",
       "2   non-significant      Dutch   HLA-DRB5  HLA-DRB5  1859103         NaN\n",
       "3   non-significant    Finnish       APOB      APOB  8018664         NaN\n",
       "4       significant    Finnish      APOC3     APOC3  8018664         NaN\n",
       "5       significant    Finnish   E2/E3/E4      APOE  8018664         NaN"
      ]
     },
     "execution_count": 58,
     "metadata": {},
     "output_type": "execute_result"
    }
   ],
   "source": [
    "data=pd.read_csv('/Users/kwakim/Desktop/longevity.csv',index_col='id')\n",
    "data.head()"
   ]
  },
  {
   "cell_type": "markdown",
   "id": "17520cf7",
   "metadata": {},
   "source": [
    "### Step 3: Filter records for genes signifaintly associated with longevity"
   ]
  },
  {
   "cell_type": "code",
   "execution_count": 80,
   "id": "4fc67de9",
   "metadata": {
    "scrolled": true
   },
   "outputs": [
    {
     "data": {
      "text/html": [
       "<div>\n",
       "<style scoped>\n",
       "    .dataframe tbody tr th:only-of-type {\n",
       "        vertical-align: middle;\n",
       "    }\n",
       "\n",
       "    .dataframe tbody tr th {\n",
       "        vertical-align: top;\n",
       "    }\n",
       "\n",
       "    .dataframe thead th {\n",
       "        text-align: right;\n",
       "    }\n",
       "</style>\n",
       "<table border=\"1\" class=\"dataframe\">\n",
       "  <thead>\n",
       "    <tr style=\"text-align: right;\">\n",
       "      <th></th>\n",
       "      <th>Association</th>\n",
       "      <th>Population</th>\n",
       "      <th>Variant(s)</th>\n",
       "      <th>Gene(s)</th>\n",
       "      <th>PubMed</th>\n",
       "      <th>Unnamed: 6</th>\n",
       "    </tr>\n",
       "    <tr>\n",
       "      <th>id</th>\n",
       "      <th></th>\n",
       "      <th></th>\n",
       "      <th></th>\n",
       "      <th></th>\n",
       "      <th></th>\n",
       "      <th></th>\n",
       "    </tr>\n",
       "  </thead>\n",
       "  <tbody>\n",
       "    <tr>\n",
       "      <th>4</th>\n",
       "      <td>significant</td>\n",
       "      <td>Finnish</td>\n",
       "      <td>APOC3</td>\n",
       "      <td>APOC3</td>\n",
       "      <td>8018664</td>\n",
       "      <td>NaN</td>\n",
       "    </tr>\n",
       "    <tr>\n",
       "      <th>5</th>\n",
       "      <td>significant</td>\n",
       "      <td>Finnish</td>\n",
       "      <td>E2/E3/E4</td>\n",
       "      <td>APOE</td>\n",
       "      <td>8018664</td>\n",
       "      <td>NaN</td>\n",
       "    </tr>\n",
       "    <tr>\n",
       "      <th>6</th>\n",
       "      <td>significant</td>\n",
       "      <td>French</td>\n",
       "      <td>I/D</td>\n",
       "      <td>ACE</td>\n",
       "      <td>8136829</td>\n",
       "      <td>NaN</td>\n",
       "    </tr>\n",
       "    <tr>\n",
       "      <th>8</th>\n",
       "      <td>significant</td>\n",
       "      <td>Finnish</td>\n",
       "      <td>APOB</td>\n",
       "      <td>APOB</td>\n",
       "      <td>8155090</td>\n",
       "      <td>NaN</td>\n",
       "    </tr>\n",
       "    <tr>\n",
       "      <th>9</th>\n",
       "      <td>significant</td>\n",
       "      <td>Finnish</td>\n",
       "      <td>E2/E3/E4</td>\n",
       "      <td>APOE</td>\n",
       "      <td>8155090</td>\n",
       "      <td>NaN</td>\n",
       "    </tr>\n",
       "  </tbody>\n",
       "</table>\n",
       "</div>"
      ],
      "text/plain": [
       "    Association Population Variant(s) Gene(s)   PubMed  Unnamed: 6\n",
       "id                                                                \n",
       "4   significant    Finnish      APOC3   APOC3  8018664         NaN\n",
       "5   significant    Finnish   E2/E3/E4    APOE  8018664         NaN\n",
       "6   significant     French        I/D     ACE  8136829         NaN\n",
       "8   significant    Finnish       APOB    APOB  8155090         NaN\n",
       "9   significant    Finnish   E2/E3/E4    APOE  8155090         NaN"
      ]
     },
     "execution_count": 80,
     "metadata": {},
     "output_type": "execute_result"
    }
   ],
   "source": [
    "sig_data=data[data['Association']=='significant']\n",
    "sig_data.head()"
   ]
  },
  {
   "cell_type": "markdown",
   "id": "3b74527e",
   "metadata": {},
   "source": [
    "### Step 4: Aggregate data. \n",
    "For each gene, count the number of variants associated with longevity"
   ]
  },
  {
   "cell_type": "code",
   "execution_count": 232,
   "id": "5f52cc16",
   "metadata": {},
   "outputs": [
    {
     "data": {
      "text/html": [
       "<div>\n",
       "<style scoped>\n",
       "    .dataframe tbody tr th:only-of-type {\n",
       "        vertical-align: middle;\n",
       "    }\n",
       "\n",
       "    .dataframe tbody tr th {\n",
       "        vertical-align: top;\n",
       "    }\n",
       "\n",
       "    .dataframe thead th {\n",
       "        text-align: right;\n",
       "    }\n",
       "</style>\n",
       "<table border=\"1\" class=\"dataframe\">\n",
       "  <thead>\n",
       "    <tr style=\"text-align: right;\">\n",
       "      <th></th>\n",
       "      <th>Variant(s)</th>\n",
       "    </tr>\n",
       "    <tr>\n",
       "      <th>Gene(s)</th>\n",
       "      <th></th>\n",
       "    </tr>\n",
       "  </thead>\n",
       "  <tbody>\n",
       "    <tr>\n",
       "      <th>ABCC4</th>\n",
       "      <td>1</td>\n",
       "    </tr>\n",
       "    <tr>\n",
       "      <th>ACE</th>\n",
       "      <td>12</td>\n",
       "    </tr>\n",
       "    <tr>\n",
       "      <th>ADA</th>\n",
       "      <td>1</td>\n",
       "    </tr>\n",
       "    <tr>\n",
       "      <th>ADA,TNF</th>\n",
       "      <td>1</td>\n",
       "    </tr>\n",
       "    <tr>\n",
       "      <th>ADA2</th>\n",
       "      <td>1</td>\n",
       "    </tr>\n",
       "  </tbody>\n",
       "</table>\n",
       "</div>"
      ],
      "text/plain": [
       "         Variant(s)\n",
       "Gene(s)            \n",
       "ABCC4             1\n",
       "ACE              12\n",
       "ADA               1\n",
       "ADA,TNF           1\n",
       "ADA2              1"
      ]
     },
     "execution_count": 232,
     "metadata": {},
     "output_type": "execute_result"
    }
   ],
   "source": [
    "grouped_sig_data=sig_data.groupby(['Gene(s)'])[['Variant(s)']].count()\n",
    "grouped_sig_data.head()"
   ]
  },
  {
   "cell_type": "markdown",
   "id": "2234d8ac",
   "metadata": {},
   "source": [
    "### Step 5: Sort data based on number of variants"
   ]
  },
  {
   "cell_type": "code",
   "execution_count": 236,
   "id": "07fd1012",
   "metadata": {},
   "outputs": [
    {
     "data": {
      "text/html": [
       "<div>\n",
       "<style scoped>\n",
       "    .dataframe tbody tr th:only-of-type {\n",
       "        vertical-align: middle;\n",
       "    }\n",
       "\n",
       "    .dataframe tbody tr th {\n",
       "        vertical-align: top;\n",
       "    }\n",
       "\n",
       "    .dataframe thead th {\n",
       "        text-align: right;\n",
       "    }\n",
       "</style>\n",
       "<table border=\"1\" class=\"dataframe\">\n",
       "  <thead>\n",
       "    <tr style=\"text-align: right;\">\n",
       "      <th></th>\n",
       "      <th>Variant(s)</th>\n",
       "    </tr>\n",
       "    <tr>\n",
       "      <th>Gene(s)</th>\n",
       "      <th></th>\n",
       "    </tr>\n",
       "  </thead>\n",
       "  <tbody>\n",
       "    <tr>\n",
       "      <th>APOE</th>\n",
       "      <td>18</td>\n",
       "    </tr>\n",
       "    <tr>\n",
       "      <th>TP53</th>\n",
       "      <td>13</td>\n",
       "    </tr>\n",
       "    <tr>\n",
       "      <th>ACE</th>\n",
       "      <td>12</td>\n",
       "    </tr>\n",
       "    <tr>\n",
       "      <th>FOXO3</th>\n",
       "      <td>6</td>\n",
       "    </tr>\n",
       "    <tr>\n",
       "      <th>PON1</th>\n",
       "      <td>5</td>\n",
       "    </tr>\n",
       "  </tbody>\n",
       "</table>\n",
       "</div>"
      ],
      "text/plain": [
       "         Variant(s)\n",
       "Gene(s)            \n",
       "APOE             18\n",
       "TP53             13\n",
       "ACE              12\n",
       "FOXO3             6\n",
       "PON1              5"
      ]
     },
     "execution_count": 236,
     "metadata": {},
     "output_type": "execute_result"
    }
   ],
   "source": [
    "grouped_sig_data=grouped_sig_data.sort_values(by='Variant(s)',ascending=False)\n",
    "grouped_sig_data.head()"
   ]
  },
  {
   "cell_type": "markdown",
   "id": "47c3ba67",
   "metadata": {},
   "source": [
    "### Step 6: Isolate genes with more than 1 longevity-associated variant"
   ]
  },
  {
   "cell_type": "code",
   "execution_count": 237,
   "id": "d120cd77",
   "metadata": {},
   "outputs": [
    {
     "data": {
      "text/html": [
       "<div>\n",
       "<style scoped>\n",
       "    .dataframe tbody tr th:only-of-type {\n",
       "        vertical-align: middle;\n",
       "    }\n",
       "\n",
       "    .dataframe tbody tr th {\n",
       "        vertical-align: top;\n",
       "    }\n",
       "\n",
       "    .dataframe thead th {\n",
       "        text-align: right;\n",
       "    }\n",
       "</style>\n",
       "<table border=\"1\" class=\"dataframe\">\n",
       "  <thead>\n",
       "    <tr style=\"text-align: right;\">\n",
       "      <th></th>\n",
       "      <th>Variant(s)</th>\n",
       "    </tr>\n",
       "    <tr>\n",
       "      <th>Gene(s)</th>\n",
       "      <th></th>\n",
       "    </tr>\n",
       "  </thead>\n",
       "  <tbody>\n",
       "    <tr>\n",
       "      <th>HFE</th>\n",
       "      <td>2</td>\n",
       "    </tr>\n",
       "    <tr>\n",
       "      <th>DBT,DLD,UBE4B</th>\n",
       "      <td>2</td>\n",
       "    </tr>\n",
       "    <tr>\n",
       "      <th>HLA-DQA1</th>\n",
       "      <td>2</td>\n",
       "    </tr>\n",
       "    <tr>\n",
       "      <th>TERT</th>\n",
       "      <td>2</td>\n",
       "    </tr>\n",
       "    <tr>\n",
       "      <th>SERPINE1</th>\n",
       "      <td>2</td>\n",
       "    </tr>\n",
       "  </tbody>\n",
       "</table>\n",
       "</div>"
      ],
      "text/plain": [
       "               Variant(s)\n",
       "Gene(s)                  \n",
       "HFE                     2\n",
       "DBT,DLD,UBE4B           2\n",
       "HLA-DQA1                2\n",
       "TERT                    2\n",
       "SERPINE1                2"
      ]
     },
     "execution_count": 237,
     "metadata": {},
     "output_type": "execute_result"
    }
   ],
   "source": [
    "plot_data=grouped_sig_data[grouped_sig_data[\"Variant(s)\"]>1]\n",
    "plot_data.tail()"
   ]
  },
  {
   "cell_type": "markdown",
   "id": "33812ce4",
   "metadata": {},
   "source": [
    "### Step 7: Create a histogram to visualize the number of longevity-associated variants per gene"
   ]
  },
  {
   "cell_type": "code",
   "execution_count": 229,
   "id": "56fdf7b2",
   "metadata": {
    "scrolled": true
   },
   "outputs": [
    {
     "data": {
      "image/png": "[encoded data removed]",
      "text/plain": [
       "<Figure size 640x480 with 1 Axes>"
      ]
     },
     "metadata": {},
     "output_type": "display_data"
    }
   ],
   "source": [
    "sns.barplot(x=plot_data.index, y=\"Num. Variants\", data=plot_data).set(title=\"Number of Longevity-Associated Variants Per Gene\")\n",
    "plt.xticks(rotation=90);\n",
    "plt.tight_layout();\n",
    "plt.yticks(range(0,max(grouped_sig_data[\"Num. Variants\"]+1)));\n"
   ]
  }
 ],
 "metadata": {
  "kernelspec": {
   "display_name": "Python 3 (ipykernel)",
   "language": "python",
   "name": "python3"
  },
  "language_info": {
   "codemirror_mode": {
    "name": "ipython",
    "version": 3
   },
   "file_extension": ".py",
   "mimetype": "text/x-python",
   "name": "python",
   "nbconvert_exporter": "python",
   "pygments_lexer": "ipython3",
   "version": "3.9.13"
  }
 },
 "nbformat": 4,
 "nbformat_minor": 5
}
